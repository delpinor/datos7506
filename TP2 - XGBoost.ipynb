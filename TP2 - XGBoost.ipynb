{
 "cells": [
  {
   "cell_type": "code",
   "execution_count": 8,
   "metadata": {},
   "outputs": [],
   "source": [
    "import warnings\n",
    "warnings.filterwarnings('ignore')\n",
    "import pandas as pd\n",
    "import numpy as np\n",
    "\n",
    "import plotly.express as px\n",
    "import plotly.figure_factory as ff\n",
    "import plotly.graph_objects as go\n",
    "\n",
    "\n",
    "from sklearn.model_selection import train_test_split\n",
    "from sklearn.model_selection import GridSearchCV\n",
    "from sklearn.model_selection import RandomizedSearchCV\n",
    "from sklearn.model_selection import cross_val_score\n",
    "from sklearn.model_selection import RepeatedStratifiedKFold, StratifiedKFold\n",
    "from sklearn.feature_extraction.text import CountVectorizer\n",
    "from sklearn.feature_extraction.text import TfidfTransformer\n",
    "from sklearn import metrics\n",
    "from sklearn.metrics import make_scorer, accuracy_score\n",
    "from sklearn.metrics import classification_report, confusion_matrix\n",
    "\n",
    "\n",
    "from xgboost import XGBClassifier\n",
    "\n",
    "\n"
   ]
  },
  {
   "cell_type": "code",
   "execution_count": 9,
   "metadata": {},
   "outputs": [],
   "source": [
    "def mostrar_metricas(y_test, y_pred):\n",
    "    print('Reporte de clasificación: \\n', metrics.classification_report(y_test, y_pred))\n",
    "    print('Matriz de confusión: \\n', metrics.confusion_matrix (y_test, y_pred))\n",
    "    print('ROC: \\n', metrics.roc_auc_score(y_test, y_pred))\n",
    "\n",
    "    # Obtener y reformar la matriz de datos de \n",
    "    matrix = confusion_matrix (y_test, y_pred) \n",
    "    matrix = matrix.astype ('float') / matrix.sum (axis = 1) [:, np.newaxis] \n",
    "\n",
    "    fig = px.imshow(matrix, color_continuous_scale='peach', labels=dict(x=\"Predicción\", y=\"Valor real\", color='Porcentaje'),\n",
    "                x=['Falso', 'Verdadero'],\n",
    "                y=['Falso', 'Verdadero'])\n",
    "    fig.update_layout(title_text='Matriz de confusión')\n",
    "    fig.update(layout=dict(title=dict(x=0.5)))\n",
    "    fig.show()\n",
    "def resultados(pred, test_df, algoritmo):\n",
    "    res_df=pd.DataFrame(test_df['id'])\n",
    "    res_df['target']=pred\n",
    "    res_df.to_csv('data/submission' + algoritmo + '.csv', index=False)"
   ]
  },
  {
   "cell_type": "markdown",
   "metadata": {},
   "source": [
    "ENTRENAMIENTO"
   ]
  },
  {
   "cell_type": "code",
   "execution_count": 10,
   "metadata": {
    "scrolled": false
   },
   "outputs": [
    {
     "data": {
      "text/plain": [
       "'\\nxgb = XGBClassifier(random_state=7506)\\n\\nparams = {\"max_depth\": [x for x in range(3, 29, 2)],\\n              \"min_child_weight\" : [1],\\n              \"n_estimators\": [200],\\n              \"learning_rate\": [0.1]}\\n                             \\ngsearch = GridSearchCV(xgb, param_grid=params, cv = 3, \\n                                   verbose=0,n_jobs =-1)\\n\\nclf = gsearch.fit(X_train, y_train)\\n\\nprint(\"Best: %f using %s\" % (clf.best_score_, clf.best_params_))\\n'"
      ]
     },
     "execution_count": 10,
     "metadata": {},
     "output_type": "execute_result"
    }
   ],
   "source": [
    "train_df = pd.read_csv('data/train_fttd.csv', encoding='utf-8')\n",
    "test_df = pd.read_csv('data/test_fttd.csv', encoding='utf-8')\n",
    "\n",
    "X = train_df['text_clean']\n",
    "y = train_df['target']\n",
    "t = test_df['text_clean']\n",
    "\n",
    "#Split\n",
    "X_train, X_test, y_train, y_test = train_test_split(X, y, test_size = 0.25, random_state = 7506)\n",
    "\n",
    "# Doc vs Term\n",
    "count_vect = CountVectorizer()\n",
    "X_train = count_vect.fit_transform(X_train)\n",
    "X_test = count_vect.transform(X_test)\n",
    "\n",
    "# TF-IDF\n",
    "tfidf_transformer = TfidfTransformer()\n",
    "X_train = tfidf_transformer.fit_transform(X_train)\n",
    "X_test = tfidf_transformer.transform(X_test)\n",
    "\n",
    "#Entrenamiento\n",
    "'''\n",
    "xgb = XGBClassifier(random_state=7506)\n",
    "\n",
    "params = {\"max_depth\": [x for x in range(3, 29, 2)],\n",
    "              \"min_child_weight\" : [1],\n",
    "              \"n_estimators\": [200],\n",
    "              \"learning_rate\": [0.1]}\n",
    "                             \n",
    "gsearch = GridSearchCV(xgb, param_grid=params, cv = 3, \n",
    "                                   verbose=0,n_jobs =-1)\n",
    "\n",
    "clf = gsearch.fit(X_train, y_train)\n",
    "\n",
    "print(\"Best: %f using %s\" % (clf.best_score_, clf.best_params_))\n",
    "'''"
   ]
  },
  {
   "cell_type": "code",
   "execution_count": 11,
   "metadata": {},
   "outputs": [],
   "source": [
    "#y_pred = clf.predict(X_test)\n",
    "#mostrar_metricas(y_test, y_pred)"
   ]
  },
  {
   "cell_type": "code",
   "execution_count": 12,
   "metadata": {},
   "outputs": [
    {
     "data": {
      "text/plain": [
       "XGBClassifier(base_score=0.5, booster='gbtree', colsample_bylevel=1,\n",
       "              colsample_bynode=1, colsample_bytree=1, gamma=0, gpu_id=-1,\n",
       "              importance_type='gain', interaction_constraints='',\n",
       "              learning_rate=0.300000012, max_delta_step=0, max_depth=23,\n",
       "              min_child_weight=1, missing=nan, monotone_constraints='()',\n",
       "              n_estimators=200, n_jobs=0, num_parallel_tree=1,\n",
       "              objective='binary:logistic', random_state=7506, reg_alpha=0,\n",
       "              reg_lambda=1, scale_pos_weight=1, subsample=1,\n",
       "              tree_method='exact', validate_parameters=1, verbosity=None)"
      ]
     },
     "execution_count": 12,
     "metadata": {},
     "output_type": "execute_result"
    }
   ],
   "source": [
    "# Doc vs Term\n",
    "count_vect = CountVectorizer()\n",
    "X_train = count_vect.fit_transform(X)\n",
    "X_test = count_vect.transform(t)\n",
    "\n",
    "# transform  to a normalized tf-idf representation \n",
    "tfidf_transformer = TfidfTransformer()\n",
    "X_train = tfidf_transformer.fit_transform(X_train)\n",
    "X_test = tfidf_transformer.transform(X_test)\n",
    "\n",
    "\n",
    "# Train\n",
    "XGB = XGBClassifier( max_depth=23,  n_estimators=200, random_state=7506)\n",
    "XGB.fit(X_train, y)\n"
   ]
  },
  {
   "cell_type": "code",
   "execution_count": 13,
   "metadata": {
    "scrolled": false
   },
   "outputs": [],
   "source": [
    "y_pred = XGB.predict(X_test)\n",
    "\n",
    "#Salida\n",
    "resultados(y_pred, test_df, 'XG&TFIDF')"
   ]
  },
  {
   "cell_type": "code",
   "execution_count": null,
   "metadata": {},
   "outputs": [],
   "source": []
  }
 ],
 "metadata": {
  "kernelspec": {
   "display_name": "Python 3",
   "language": "python",
   "name": "python3"
  },
  "language_info": {
   "codemirror_mode": {
    "name": "ipython",
    "version": 3
   },
   "file_extension": ".py",
   "mimetype": "text/x-python",
   "name": "python",
   "nbconvert_exporter": "python",
   "pygments_lexer": "ipython3",
   "version": "3.7.6"
  }
 },
 "nbformat": 4,
 "nbformat_minor": 4
}
