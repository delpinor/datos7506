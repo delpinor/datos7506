{
 "cells": [
  {
   "cell_type": "code",
   "execution_count": 4,
   "metadata": {},
   "outputs": [],
   "source": [
    "import pandas as pd\n",
    "import numpy as np"
   ]
  },
  {
   "cell_type": "code",
   "execution_count": 12,
   "metadata": {},
   "outputs": [],
   "source": [
    "df1 = pd.read_csv('data/submission8112-CONV1D & Glove.csv')\n",
    "df2 = pd.read_csv('data/submission8424-BERT.csv')\n",
    "df3 = pd.read_csv('data/submission8387-BERT.csv')\n",
    "df = pd.concat([df1, df2.target, df3.target], axis = 1)\n",
    "df.columns = ['id','target1', 'target2', 'target3']\n",
    "df['target'] = df.target1 + df.target2 + df.target3\n",
    "df['target'] = df.target.apply(lambda x: 1 if x > 1 else 0)\n",
    "df = df[['id', 'target']]\n",
    "df.to_csv('data/submission.csv', index=False)\n",
    "#0.8433956481765247"
   ]
  },
  {
   "cell_type": "code",
   "execution_count": null,
   "metadata": {},
   "outputs": [],
   "source": []
  }
 ],
 "metadata": {
  "kernelspec": {
   "display_name": "Python 3",
   "language": "python",
   "name": "python3"
  },
  "language_info": {
   "codemirror_mode": {
    "name": "ipython",
    "version": 3
   },
   "file_extension": ".py",
   "mimetype": "text/x-python",
   "name": "python",
   "nbconvert_exporter": "python",
   "pygments_lexer": "ipython3",
   "version": "3.7.6"
  }
 },
 "nbformat": 4,
 "nbformat_minor": 4
}
